{
  "metadata": {
    "kernelspec": {
      "language": "python",
      "display_name": "Python 3",
      "name": "python3"
    },
    "language_info": {
      "name": "python",
      "version": "3.10.14",
      "mimetype": "text/x-python",
      "codemirror_mode": {
        "name": "ipython",
        "version": 3
      },
      "pygments_lexer": "ipython3",
      "nbconvert_exporter": "python",
      "file_extension": ".py"
    },
    "kaggle": {
      "accelerator": "none",
      "dataSources": [
        {
          "sourceId": 9302249,
          "sourceType": "datasetVersion",
          "datasetId": 5508307
        }
      ],
      "dockerImageVersionId": 30761,
      "isInternetEnabled": true,
      "language": "python",
      "sourceType": "notebook",
      "isGpuEnabled": false
    },
    "colab": {
      "provenance": [],
      "include_colab_link": true
    }
  },
  "nbformat_minor": 0,
  "nbformat": 4,
  "cells": [
    {
      "cell_type": "markdown",
      "metadata": {
        "id": "view-in-github",
        "colab_type": "text"
      },
      "source": [
        "<a href=\"https://colab.research.google.com/github/yisakberhanu/AI-Mathematical-Olympiad/blob/main/generate_strategy.ipynb\" target=\"_parent\"><img src=\"https://colab.research.google.com/assets/colab-badge.svg\" alt=\"Open In Colab\"/></a>"
      ]
    },
    {
      "cell_type": "markdown",
      "source": [
        "### Generate Strategy"
      ],
      "metadata": {
        "id": "2YrlFO0IuXJV"
      }
    },
    {
      "cell_type": "code",
      "source": [
        "import pandas as pd\n",
        "import numpy as np"
      ],
      "metadata": {
        "execution": {
          "iopub.status.busy": "2024-09-03T06:50:50.336337Z",
          "iopub.execute_input": "2024-09-03T06:50:50.336784Z",
          "iopub.status.idle": "2024-09-03T06:50:50.804017Z",
          "shell.execute_reply.started": "2024-09-03T06:50:50.336737Z",
          "shell.execute_reply": "2024-09-03T06:50:50.802800Z"
        },
        "trusted": true,
        "id": "2ywCGl7GuXJX"
      },
      "execution_count": null,
      "outputs": []
    },
    {
      "cell_type": "code",
      "source": [
        "def load_data(grid_outage_file, solar_prediction_file, load_prediction_file):\n",
        "    grid_outage = pd.read_csv(grid_outage_file)\n",
        "    solar_prediction = pd.read_csv(solar_prediction_file)\n",
        "    load_prediction = pd.read_csv(load_prediction_file)\n",
        "    return grid_outage, solar_prediction, load_prediction\n",
        "def calculate_soc(current_soc, power_delta, battery_capacity, charge_coef, discharge_coef):\n",
        "    if power_delta > 0:  # Charging\n",
        "        soc_delta = (power_delta * charge_coef) / battery_capacity\n",
        "    else:  # Discharging\n",
        "        soc_delta = (power_delta * discharge_coef) / battery_capacity\n",
        "    new_soc = current_soc + soc_delta\n",
        "    return max(0, min(1, new_soc))  # Ensure SOC is between 0 and 1"
      ],
      "metadata": {
        "execution": {
          "iopub.status.busy": "2024-09-03T06:50:50.850433Z",
          "iopub.execute_input": "2024-09-03T06:50:50.850788Z",
          "iopub.status.idle": "2024-09-03T06:50:50.858426Z",
          "shell.execute_reply.started": "2024-09-03T06:50:50.850750Z",
          "shell.execute_reply": "2024-09-03T06:50:50.857063Z"
        },
        "trusted": true,
        "id": "sy6CzxkauXJY"
      },
      "execution_count": null,
      "outputs": []
    },
    {
      "cell_type": "code",
      "source": [
        "site_config, solar_prediction, load_prediction = load_data('/kaggle/input/smart-energy/smart-energy-supply-scheduling-for-green-telecom20240806-1019-x8g4w/trainData/trainData/site information and grid outage.csv',\n",
        "                                                           '/kaggle/input/smart-energy/solar_test_preds.csv',\n",
        "                                                           '/kaggle/input/smart-energy/energy_test_preds.csv')\n",
        "display(site_config.head(), solar_prediction.head(), load_prediction.head())"
      ],
      "metadata": {
        "execution": {
          "iopub.status.busy": "2024-09-03T06:50:50.860623Z",
          "iopub.execute_input": "2024-09-03T06:50:50.861059Z",
          "iopub.status.idle": "2024-09-03T06:50:50.935253Z",
          "shell.execute_reply.started": "2024-09-03T06:50:50.861003Z",
          "shell.execute_reply": "2024-09-03T06:50:50.934218Z"
        },
        "trusted": true,
        "id": "2Zb4MPCquXJZ",
        "outputId": "f6fee96b-efec-48fc-840f-a11f77bfcec6"
      },
      "execution_count": null,
      "outputs": [
        {
          "output_type": "display_data",
          "data": {
            "text/plain": "  Site Id  diesel power(kW)  battery capacity (Ah)  rated voltage（V）  \\\n0   site1              18.0                    300                54   \n1   site2              17.6                    760                54   \n2   site3              12.8                    760                54   \n3   site4              17.6                    760                54   \n4   site5              17.6                    380                54   \n\n   battery charge coefficient  battery discharge coefficient  init SOC   DOD  \\\n0                        0.35                            1.2       0.2  0.15   \n1                        0.35                            1.2       0.2  0.15   \n2                        0.35                            1.2       0.2  0.15   \n3                        0.35                            1.2       0.2  0.15   \n4                        0.35                            1.2       0.2  0.15   \n\n   grid power(kW)                                   grid outage plan  \n0               8  [false false false false false false false fal...  \n1              14  [false false false false false false false fal...  \n2              10  [false false false false false false false fal...  \n3              14  [true true true true true true true true true ...  \n4              12  [false false false false false true true true ...  ",
            "text/html": "<div>\n<style scoped>\n    .dataframe tbody tr th:only-of-type {\n        vertical-align: middle;\n    }\n\n    .dataframe tbody tr th {\n        vertical-align: top;\n    }\n\n    .dataframe thead th {\n        text-align: right;\n    }\n</style>\n<table border=\"1\" class=\"dataframe\">\n  <thead>\n    <tr style=\"text-align: right;\">\n      <th></th>\n      <th>Site Id</th>\n      <th>diesel power(kW)</th>\n      <th>battery capacity (Ah)</th>\n      <th>rated voltage（V）</th>\n      <th>battery charge coefficient</th>\n      <th>battery discharge coefficient</th>\n      <th>init SOC</th>\n      <th>DOD</th>\n      <th>grid power(kW)</th>\n      <th>grid outage plan</th>\n    </tr>\n  </thead>\n  <tbody>\n    <tr>\n      <th>0</th>\n      <td>site1</td>\n      <td>18.0</td>\n      <td>300</td>\n      <td>54</td>\n      <td>0.35</td>\n      <td>1.2</td>\n      <td>0.2</td>\n      <td>0.15</td>\n      <td>8</td>\n      <td>[false false false false false false false fal...</td>\n    </tr>\n    <tr>\n      <th>1</th>\n      <td>site2</td>\n      <td>17.6</td>\n      <td>760</td>\n      <td>54</td>\n      <td>0.35</td>\n      <td>1.2</td>\n      <td>0.2</td>\n      <td>0.15</td>\n      <td>14</td>\n      <td>[false false false false false false false fal...</td>\n    </tr>\n    <tr>\n      <th>2</th>\n      <td>site3</td>\n      <td>12.8</td>\n      <td>760</td>\n      <td>54</td>\n      <td>0.35</td>\n      <td>1.2</td>\n      <td>0.2</td>\n      <td>0.15</td>\n      <td>10</td>\n      <td>[false false false false false false false fal...</td>\n    </tr>\n    <tr>\n      <th>3</th>\n      <td>site4</td>\n      <td>17.6</td>\n      <td>760</td>\n      <td>54</td>\n      <td>0.35</td>\n      <td>1.2</td>\n      <td>0.2</td>\n      <td>0.15</td>\n      <td>14</td>\n      <td>[true true true true true true true true true ...</td>\n    </tr>\n    <tr>\n      <th>4</th>\n      <td>site5</td>\n      <td>17.6</td>\n      <td>380</td>\n      <td>54</td>\n      <td>0.35</td>\n      <td>1.2</td>\n      <td>0.2</td>\n      <td>0.15</td>\n      <td>12</td>\n      <td>[false false false false false true true true ...</td>\n    </tr>\n  </tbody>\n</table>\n</div>"
          },
          "metadata": {}
        },
        {
          "output_type": "display_data",
          "data": {
            "text/plain": "  Site Name  Day  Hour  solar_preds\n0     site1   61     0    -0.017261\n1    site10   61     0     0.000283\n2     site2   61     0    -0.028670\n3     site3   61     0    -0.002697\n4     site4   61     0    -0.009436",
            "text/html": "<div>\n<style scoped>\n    .dataframe tbody tr th:only-of-type {\n        vertical-align: middle;\n    }\n\n    .dataframe tbody tr th {\n        vertical-align: top;\n    }\n\n    .dataframe thead th {\n        text-align: right;\n    }\n</style>\n<table border=\"1\" class=\"dataframe\">\n  <thead>\n    <tr style=\"text-align: right;\">\n      <th></th>\n      <th>Site Name</th>\n      <th>Day</th>\n      <th>Hour</th>\n      <th>solar_preds</th>\n    </tr>\n  </thead>\n  <tbody>\n    <tr>\n      <th>0</th>\n      <td>site1</td>\n      <td>61</td>\n      <td>0</td>\n      <td>-0.017261</td>\n    </tr>\n    <tr>\n      <th>1</th>\n      <td>site10</td>\n      <td>61</td>\n      <td>0</td>\n      <td>0.000283</td>\n    </tr>\n    <tr>\n      <th>2</th>\n      <td>site2</td>\n      <td>61</td>\n      <td>0</td>\n      <td>-0.028670</td>\n    </tr>\n    <tr>\n      <th>3</th>\n      <td>site3</td>\n      <td>61</td>\n      <td>0</td>\n      <td>-0.002697</td>\n    </tr>\n    <tr>\n      <th>4</th>\n      <td>site4</td>\n      <td>61</td>\n      <td>0</td>\n      <td>-0.009436</td>\n    </tr>\n  </tbody>\n</table>\n</div>"
          },
          "metadata": {}
        },
        {
          "output_type": "display_data",
          "data": {
            "text/plain": "  Site Name  Day  Hour  energy_preds\n0     site1   61     0      3.694253\n1    site10   61     0      4.034325\n2     site2   61     0      8.774539\n3     site3   61     0      1.843485\n4     site4   61     0      8.929755",
            "text/html": "<div>\n<style scoped>\n    .dataframe tbody tr th:only-of-type {\n        vertical-align: middle;\n    }\n\n    .dataframe tbody tr th {\n        vertical-align: top;\n    }\n\n    .dataframe thead th {\n        text-align: right;\n    }\n</style>\n<table border=\"1\" class=\"dataframe\">\n  <thead>\n    <tr style=\"text-align: right;\">\n      <th></th>\n      <th>Site Name</th>\n      <th>Day</th>\n      <th>Hour</th>\n      <th>energy_preds</th>\n    </tr>\n  </thead>\n  <tbody>\n    <tr>\n      <th>0</th>\n      <td>site1</td>\n      <td>61</td>\n      <td>0</td>\n      <td>3.694253</td>\n    </tr>\n    <tr>\n      <th>1</th>\n      <td>site10</td>\n      <td>61</td>\n      <td>0</td>\n      <td>4.034325</td>\n    </tr>\n    <tr>\n      <th>2</th>\n      <td>site2</td>\n      <td>61</td>\n      <td>0</td>\n      <td>8.774539</td>\n    </tr>\n    <tr>\n      <th>3</th>\n      <td>site3</td>\n      <td>61</td>\n      <td>0</td>\n      <td>1.843485</td>\n    </tr>\n    <tr>\n      <th>4</th>\n      <td>site4</td>\n      <td>61</td>\n      <td>0</td>\n      <td>8.929755</td>\n    </tr>\n  </tbody>\n</table>\n</div>"
          },
          "metadata": {}
        }
      ]
    },
    {
      "cell_type": "code",
      "source": [
        "solar_prediction['solar_preds'] = np.where(solar_prediction['solar_preds']<0, 0, solar_prediction['solar_preds'])"
      ],
      "metadata": {
        "execution": {
          "iopub.status.busy": "2024-09-03T06:53:28.938800Z",
          "iopub.execute_input": "2024-09-03T06:53:28.939255Z",
          "iopub.status.idle": "2024-09-03T06:53:28.945917Z",
          "shell.execute_reply.started": "2024-09-03T06:53:28.939210Z",
          "shell.execute_reply": "2024-09-03T06:53:28.944565Z"
        },
        "trusted": true,
        "id": "mvpFyUyouXJa"
      },
      "execution_count": null,
      "outputs": []
    },
    {
      "cell_type": "code",
      "source": [
        "string = \"[false,false,false,false,false,false]\"\n",
        "boolean_list = eval(string.replace('false', 'False'))\n",
        "print(boolean_list)\n"
      ],
      "metadata": {
        "execution": {
          "iopub.status.busy": "2024-09-03T06:53:44.007438Z",
          "iopub.execute_input": "2024-09-03T06:53:44.007884Z",
          "iopub.status.idle": "2024-09-03T06:53:44.014598Z",
          "shell.execute_reply.started": "2024-09-03T06:53:44.007839Z",
          "shell.execute_reply": "2024-09-03T06:53:44.013282Z"
        },
        "trusted": true,
        "id": "UjKLXGL_uXJb",
        "outputId": "15ccb7ba-4867-4b65-a6c3-b8c52d311756"
      },
      "execution_count": null,
      "outputs": [
        {
          "name": "stdout",
          "text": "[False, False, False, False, False, False]\n",
          "output_type": "stream"
        }
      ]
    },
    {
      "cell_type": "code",
      "source": [
        "site_config['grid outage plan'] = site_config['grid outage plan'].str.replace(\" \", \",\")\n",
        "display(site_config.head())"
      ],
      "metadata": {
        "execution": {
          "iopub.status.busy": "2024-09-03T06:53:44.193917Z",
          "iopub.execute_input": "2024-09-03T06:53:44.194379Z",
          "iopub.status.idle": "2024-09-03T06:53:44.214685Z",
          "shell.execute_reply.started": "2024-09-03T06:53:44.194334Z",
          "shell.execute_reply": "2024-09-03T06:53:44.213411Z"
        },
        "trusted": true,
        "id": "bjp5FuU_uXJb",
        "outputId": "a508a5d8-9125-4832-b587-2bf8e4956114"
      },
      "execution_count": null,
      "outputs": [
        {
          "output_type": "display_data",
          "data": {
            "text/plain": "  Site Id  diesel power(kW)  battery capacity (Ah)  rated voltage（V）  \\\n0   site1              18.0                    300                54   \n1   site2              17.6                    760                54   \n2   site3              12.8                    760                54   \n3   site4              17.6                    760                54   \n4   site5              17.6                    380                54   \n\n   battery charge coefficient  battery discharge coefficient  init SOC   DOD  \\\n0                        0.35                            1.2       0.2  0.15   \n1                        0.35                            1.2       0.2  0.15   \n2                        0.35                            1.2       0.2  0.15   \n3                        0.35                            1.2       0.2  0.15   \n4                        0.35                            1.2       0.2  0.15   \n\n   grid power(kW)                                   grid outage plan  \n0               8  [false,false,false,false,false,false,false,fal...  \n1              14  [false,false,false,false,false,false,false,fal...  \n2              10  [false,false,false,false,false,false,false,fal...  \n3              14  [true,true,true,true,true,true,true,true,true,...  \n4              12  [false,false,false,false,false,true,true,true,...  ",
            "text/html": "<div>\n<style scoped>\n    .dataframe tbody tr th:only-of-type {\n        vertical-align: middle;\n    }\n\n    .dataframe tbody tr th {\n        vertical-align: top;\n    }\n\n    .dataframe thead th {\n        text-align: right;\n    }\n</style>\n<table border=\"1\" class=\"dataframe\">\n  <thead>\n    <tr style=\"text-align: right;\">\n      <th></th>\n      <th>Site Id</th>\n      <th>diesel power(kW)</th>\n      <th>battery capacity (Ah)</th>\n      <th>rated voltage（V）</th>\n      <th>battery charge coefficient</th>\n      <th>battery discharge coefficient</th>\n      <th>init SOC</th>\n      <th>DOD</th>\n      <th>grid power(kW)</th>\n      <th>grid outage plan</th>\n    </tr>\n  </thead>\n  <tbody>\n    <tr>\n      <th>0</th>\n      <td>site1</td>\n      <td>18.0</td>\n      <td>300</td>\n      <td>54</td>\n      <td>0.35</td>\n      <td>1.2</td>\n      <td>0.2</td>\n      <td>0.15</td>\n      <td>8</td>\n      <td>[false,false,false,false,false,false,false,fal...</td>\n    </tr>\n    <tr>\n      <th>1</th>\n      <td>site2</td>\n      <td>17.6</td>\n      <td>760</td>\n      <td>54</td>\n      <td>0.35</td>\n      <td>1.2</td>\n      <td>0.2</td>\n      <td>0.15</td>\n      <td>14</td>\n      <td>[false,false,false,false,false,false,false,fal...</td>\n    </tr>\n    <tr>\n      <th>2</th>\n      <td>site3</td>\n      <td>12.8</td>\n      <td>760</td>\n      <td>54</td>\n      <td>0.35</td>\n      <td>1.2</td>\n      <td>0.2</td>\n      <td>0.15</td>\n      <td>10</td>\n      <td>[false,false,false,false,false,false,false,fal...</td>\n    </tr>\n    <tr>\n      <th>3</th>\n      <td>site4</td>\n      <td>17.6</td>\n      <td>760</td>\n      <td>54</td>\n      <td>0.35</td>\n      <td>1.2</td>\n      <td>0.2</td>\n      <td>0.15</td>\n      <td>14</td>\n      <td>[true,true,true,true,true,true,true,true,true,...</td>\n    </tr>\n    <tr>\n      <th>4</th>\n      <td>site5</td>\n      <td>17.6</td>\n      <td>380</td>\n      <td>54</td>\n      <td>0.35</td>\n      <td>1.2</td>\n      <td>0.2</td>\n      <td>0.15</td>\n      <td>12</td>\n      <td>[false,false,false,false,false,true,true,true,...</td>\n    </tr>\n  </tbody>\n</table>\n</div>"
          },
          "metadata": {}
        }
      ]
    },
    {
      "cell_type": "code",
      "source": [
        "site_config.columns"
      ],
      "metadata": {
        "execution": {
          "iopub.status.busy": "2024-09-03T06:53:47.023199Z",
          "iopub.execute_input": "2024-09-03T06:53:47.023613Z",
          "iopub.status.idle": "2024-09-03T06:53:47.031512Z",
          "shell.execute_reply.started": "2024-09-03T06:53:47.023575Z",
          "shell.execute_reply": "2024-09-03T06:53:47.030326Z"
        },
        "trusted": true,
        "id": "dSk1ieEUuXJc",
        "outputId": "8e3ff88a-9902-4980-bcac-83c75795d87e"
      },
      "execution_count": null,
      "outputs": [
        {
          "execution_count": 12,
          "output_type": "execute_result",
          "data": {
            "text/plain": "Index(['Site Id', 'diesel power(kW)', 'battery capacity (Ah)',\n       'rated voltage（V）', 'battery charge coefficient',\n       'battery discharge coefficient', 'init SOC', 'DOD', 'grid power(kW)',\n       'grid outage plan'],\n      dtype='object')"
          },
          "metadata": {}
        }
      ]
    },
    {
      "cell_type": "code",
      "source": [
        "grid_outage = pd.DataFrame()\n",
        "for i, row in site_config.iterrows():\n",
        "    site_name = row['Site Id']\n",
        "    outage_plan = eval(row['grid outage plan'].replace('true', 'True').replace('false', 'False'))\n",
        "    assert len(outage_plan) == 168\n",
        "\n",
        "    # Create a DataFrame for the current site with outage plan for each hour\n",
        "    site_df = pd.DataFrame({'Site Id': site_name, 'hour': range(1, 169), 'grid_outage': outage_plan})\n",
        "\n",
        "    grid_outage = pd.concat([grid_outage, site_df], ignore_index=True)\n",
        "\n",
        "site_config.drop(columns=['grid outage plan'], inplace=True)\n",
        "display(grid_outage.head())"
      ],
      "metadata": {
        "execution": {
          "iopub.status.busy": "2024-09-03T06:53:49.827237Z",
          "iopub.execute_input": "2024-09-03T06:53:49.827643Z",
          "iopub.status.idle": "2024-09-03T06:53:49.865409Z",
          "shell.execute_reply.started": "2024-09-03T06:53:49.827603Z",
          "shell.execute_reply": "2024-09-03T06:53:49.864251Z"
        },
        "trusted": true,
        "id": "uwBzREJWuXJc",
        "outputId": "300eeeb8-d538-4a76-e95e-8e7d07e68edf"
      },
      "execution_count": null,
      "outputs": [
        {
          "output_type": "display_data",
          "data": {
            "text/plain": "  Site Id  hour  grid_outage\n0   site1     1        False\n1   site1     2        False\n2   site1     3        False\n3   site1     4        False\n4   site1     5        False",
            "text/html": "<div>\n<style scoped>\n    .dataframe tbody tr th:only-of-type {\n        vertical-align: middle;\n    }\n\n    .dataframe tbody tr th {\n        vertical-align: top;\n    }\n\n    .dataframe thead th {\n        text-align: right;\n    }\n</style>\n<table border=\"1\" class=\"dataframe\">\n  <thead>\n    <tr style=\"text-align: right;\">\n      <th></th>\n      <th>Site Id</th>\n      <th>hour</th>\n      <th>grid_outage</th>\n    </tr>\n  </thead>\n  <tbody>\n    <tr>\n      <th>0</th>\n      <td>site1</td>\n      <td>1</td>\n      <td>False</td>\n    </tr>\n    <tr>\n      <th>1</th>\n      <td>site1</td>\n      <td>2</td>\n      <td>False</td>\n    </tr>\n    <tr>\n      <th>2</th>\n      <td>site1</td>\n      <td>3</td>\n      <td>False</td>\n    </tr>\n    <tr>\n      <th>3</th>\n      <td>site1</td>\n      <td>4</td>\n      <td>False</td>\n    </tr>\n    <tr>\n      <th>4</th>\n      <td>site1</td>\n      <td>5</td>\n      <td>False</td>\n    </tr>\n  </tbody>\n</table>\n</div>"
          },
          "metadata": {}
        }
      ]
    },
    {
      "cell_type": "code",
      "source": [
        "\n",
        "# Add 'daily_hr' column (0-23 repeated)\n",
        "grid_outage['daily_hr'] = (grid_outage['hour'] - 1) % 24\n",
        "\n",
        "# Add 'day' column (61 to 67 repeated for each 24 hours)\n",
        "grid_outage['day'] = 61 + (grid_outage['hour'] - 1) // 24\n",
        "display(grid_outage.head())"
      ],
      "metadata": {
        "execution": {
          "iopub.status.busy": "2024-09-03T06:53:52.231386Z",
          "iopub.execute_input": "2024-09-03T06:53:52.231811Z",
          "iopub.status.idle": "2024-09-03T06:53:52.248231Z",
          "shell.execute_reply.started": "2024-09-03T06:53:52.231769Z",
          "shell.execute_reply": "2024-09-03T06:53:52.246890Z"
        },
        "trusted": true,
        "id": "q9GalOz5uXJd",
        "outputId": "576ee31f-554c-4ea4-ed51-f929617313b5"
      },
      "execution_count": null,
      "outputs": [
        {
          "output_type": "display_data",
          "data": {
            "text/plain": "  Site Id  hour  grid_outage  daily_hr  day\n0   site1     1        False         0   61\n1   site1     2        False         1   61\n2   site1     3        False         2   61\n3   site1     4        False         3   61\n4   site1     5        False         4   61",
            "text/html": "<div>\n<style scoped>\n    .dataframe tbody tr th:only-of-type {\n        vertical-align: middle;\n    }\n\n    .dataframe tbody tr th {\n        vertical-align: top;\n    }\n\n    .dataframe thead th {\n        text-align: right;\n    }\n</style>\n<table border=\"1\" class=\"dataframe\">\n  <thead>\n    <tr style=\"text-align: right;\">\n      <th></th>\n      <th>Site Id</th>\n      <th>hour</th>\n      <th>grid_outage</th>\n      <th>daily_hr</th>\n      <th>day</th>\n    </tr>\n  </thead>\n  <tbody>\n    <tr>\n      <th>0</th>\n      <td>site1</td>\n      <td>1</td>\n      <td>False</td>\n      <td>0</td>\n      <td>61</td>\n    </tr>\n    <tr>\n      <th>1</th>\n      <td>site1</td>\n      <td>2</td>\n      <td>False</td>\n      <td>1</td>\n      <td>61</td>\n    </tr>\n    <tr>\n      <th>2</th>\n      <td>site1</td>\n      <td>3</td>\n      <td>False</td>\n      <td>2</td>\n      <td>61</td>\n    </tr>\n    <tr>\n      <th>3</th>\n      <td>site1</td>\n      <td>4</td>\n      <td>False</td>\n      <td>3</td>\n      <td>61</td>\n    </tr>\n    <tr>\n      <th>4</th>\n      <td>site1</td>\n      <td>5</td>\n      <td>False</td>\n      <td>4</td>\n      <td>61</td>\n    </tr>\n  </tbody>\n</table>\n</div>"
          },
          "metadata": {}
        }
      ]
    },
    {
      "cell_type": "code",
      "source": [
        "\n",
        "\n",
        "def calculate_soc(current_soc, power_delta, battery_capacity, charge_coef, discharge_coef):\n",
        "    if power_delta > 0:  # Charging\n",
        "        soc_delta = (power_delta * charge_coef) / battery_capacity\n",
        "    else:  # Discharging\n",
        "        soc_delta = (power_delta * discharge_coef) / battery_capacity\n",
        "    new_soc = current_soc + soc_delta\n",
        "    return max(0, min(1, new_soc))  # Ensure SOC is between 0 and 1\n",
        "\n",
        "def generate_day_night_battery_strategy(site_config, solar_pred, load_pred, grid_outage_plan):\n",
        "    strategy = []\n",
        "    current_soc = site_config['init SOC'].values[0]\n",
        "    battery_capacity = site_config['battery capacity (Ah)'].values[0] * site_config['rated voltage（V）'].values[0] / 1000  # Convert to kWh\n",
        "    DOD = site_config['DOD'].values[0]\n",
        "    min_soc = 1 - DOD  # Calculate the minimum allowable SOC\n",
        "    charge_coeff = site_config['battery charge coefficient'].values[0]\n",
        "    discharge_coeff = site_config['battery discharge coefficient'].values[0]\n",
        "\n",
        "    for day in range(61, 68):\n",
        "        solar_available_day = solar_pred[solar_pred['Day'] == day]\n",
        "        load_required_day = load_pred[load_pred['Day'] == day]\n",
        "        grid_available_day = grid_outage_plan[grid_outage_plan['day'] == day]\n",
        "\n",
        "        for hour in range(24):\n",
        "            is_daytime = 6 <= hour < 18  # Assume daytime is from 6 AM to 6 PM\n",
        "            for quarter in range(4):  # 15-minute intervals\n",
        "                solar_available = solar_available_day[solar_available_day['Hour'] == hour]['solar_preds'].values[0] / 4\n",
        "                load_required = load_required_day[load_required_day['Hour'] == hour]['energy_preds'].values[0] / 4\n",
        "                grid_available = grid_available_day[grid_available_day['daily_hr'] == hour]['grid_outage'].values[0]\n",
        "\n",
        "                use_solar = solar_available > 0\n",
        "                use_grid = False\n",
        "                use_diesel = False\n",
        "\n",
        "                if is_daytime:\n",
        "                    # During the day, prioritize charging the battery\n",
        "                    if use_solar:\n",
        "                        battery_charge_capacity = (1 - current_soc) * battery_capacity\n",
        "                        power_to_battery = min(solar_available, battery_charge_capacity)\n",
        "                        current_soc = calculate_soc(current_soc, power_to_battery, battery_capacity, charge_coeff, discharge_coeff)\n",
        "\n",
        "                        # Use remaining solar power for load\n",
        "                        remaining_solar = solar_available - power_to_battery\n",
        "                        if remaining_solar >= load_required:\n",
        "                            power_balance = 0\n",
        "                        else:\n",
        "                            power_balance = remaining_solar - load_required\n",
        "                    else:\n",
        "                        power_balance = -load_required\n",
        "                else:\n",
        "                    # During the night, use battery first\n",
        "                    power_balance = -load_required\n",
        "                    battery_discharge_capacity = (current_soc - min_soc) * battery_capacity\n",
        "                    if battery_discharge_capacity > 0:\n",
        "                        power_from_battery = min(load_required, battery_discharge_capacity)\n",
        "                        new_soc = calculate_soc(current_soc, -power_from_battery, battery_capacity, charge_coeff, discharge_coeff)\n",
        "                        if new_soc >= min_soc:\n",
        "                            power_balance += power_from_battery\n",
        "                            current_soc = new_soc\n",
        "\n",
        "                # If there's still a power deficit, use grid if available\n",
        "                if power_balance < 0 and grid_available:\n",
        "                    use_grid = True\n",
        "                    power_balance = 0\n",
        "\n",
        "                # If there's still a power deficit, use diesel as last resort\n",
        "                if power_balance < 0:\n",
        "                    use_diesel = True\n",
        "                    power_balance = 0\n",
        "\n",
        "                strategy.append({\n",
        "                    'use_solar': use_solar,\n",
        "                    'use_grid': use_grid,\n",
        "                    'use_diesel': use_diesel,\n",
        "                    'current_soc': current_soc\n",
        "                })\n",
        "\n",
        "    return strategy\n",
        "\n",
        "# Main execution\n",
        "all_site_strategies = {}\n",
        "for site in site_config['Site Id'].unique():\n",
        "    site_configuration = site_config[site_config['Site Id'] == site]\n",
        "    solar_pred = solar_prediction[solar_prediction['Site Name'] == site]\n",
        "    energy_pred = load_prediction[load_prediction['Site Name'] == site]\n",
        "    grid_outage_plan = grid_outage[grid_outage['Site Id'] == site]\n",
        "    strategy = generate_day_night_battery_strategy(site_config=site_configuration,\n",
        "                                                   solar_pred=solar_pred,\n",
        "                                                   load_pred=energy_pred,\n",
        "                                                   grid_outage_plan=grid_outage_plan)\n",
        "    all_site_strategies[site] = strategy\n",
        "\n",
        "# Convert strategies to the required output format\n",
        "output_data = []\n",
        "for site_id, strategy in all_site_strategies.items():\n",
        "    for time_step, decision in enumerate(strategy):\n",
        "        output_data.append({\n",
        "            'site': site_id,\n",
        "            'hour': time_step,\n",
        "            'use_grid': decision['use_grid'],\n",
        "            'use_diesel': decision['use_diesel'],\n",
        "            'use_solar': decision['use_solar']\n",
        "        })\n",
        "\n",
        "output_df = pd.DataFrame(output_data)\n",
        "print(output_df.shape)\n",
        "output_df.to_csv('strategy_output.csv', index=False)\n",
        "\n",
        "# Print statistics for each site\n",
        "for site_id, strategy in all_site_strategies.items():\n",
        "    min_soc = min(decision['current_soc'] for decision in strategy)\n",
        "    avg_soc = sum(decision['current_soc'] for decision in strategy) / len(strategy)\n",
        "    solar_usage = sum(1 for decision in strategy if decision['use_solar'])\n",
        "    grid_usage = sum(1 for decision in strategy if decision['use_grid'])\n",
        "    diesel_usage = sum(1 for decision in strategy if decision['use_diesel'])\n",
        "\n",
        "    print(f\"Site {site_id}:\")\n",
        "    print(f\"  Minimum SOC: {min_soc:.4f}\")\n",
        "    print(f\"  Average SOC: {avg_soc:.4f}\")\n",
        "    print(f\"  Solar usage: {solar_usage} time steps\")\n",
        "    print(f\"  Grid usage: {grid_usage} time steps\")\n",
        "    print(f\"  Diesel usage: {diesel_usage} time steps\")\n",
        "    print()"
      ],
      "metadata": {
        "execution": {
          "iopub.status.busy": "2024-09-03T07:02:03.281805Z",
          "iopub.execute_input": "2024-09-03T07:02:03.282257Z",
          "iopub.status.idle": "2024-09-03T07:02:11.554934Z",
          "shell.execute_reply.started": "2024-09-03T07:02:03.282214Z",
          "shell.execute_reply": "2024-09-03T07:02:11.553623Z"
        },
        "trusted": true,
        "id": "E8WNs84KuXJd",
        "outputId": "928e65b5-23ad-46f6-adbe-bd3048354faf"
      },
      "execution_count": null,
      "outputs": [
        {
          "name": "stdout",
          "text": "(6720, 5)\nSite site1:\n  Minimum SOC: 0.2000\n  Average SOC: 0.8963\n  Solar usage: 560 time steps\n  Grid usage: 93 time steps\n  Diesel usage: 436 time steps\n\nSite site2:\n  Minimum SOC: 0.2000\n  Average SOC: 0.8410\n  Solar usage: 420 time steps\n  Grid usage: 250 time steps\n  Diesel usage: 410 time steps\n\nSite site3:\n  Minimum SOC: 0.2000\n  Average SOC: 0.8661\n  Solar usage: 504 time steps\n  Grid usage: 210 time steps\n  Diesel usage: 354 time steps\n\nSite site4:\n  Minimum SOC: 0.2000\n  Average SOC: 0.8740\n  Solar usage: 512 time steps\n  Grid usage: 160 time steps\n  Diesel usage: 355 time steps\n\nSite site5:\n  Minimum SOC: 0.2000\n  Average SOC: 0.8793\n  Solar usage: 556 time steps\n  Grid usage: 303 time steps\n  Diesel usage: 350 time steps\n\nSite site6:\n  Minimum SOC: 0.2000\n  Average SOC: 0.8074\n  Solar usage: 496 time steps\n  Grid usage: 113 time steps\n  Diesel usage: 514 time steps\n\nSite site7:\n  Minimum SOC: 0.2000\n  Average SOC: 0.8789\n  Solar usage: 504 time steps\n  Grid usage: 218 time steps\n  Diesel usage: 304 time steps\n\nSite site8:\n  Minimum SOC: 0.2000\n  Average SOC: 0.8804\n  Solar usage: 580 time steps\n  Grid usage: 184 time steps\n  Diesel usage: 195 time steps\n\nSite site9:\n  Minimum SOC: 0.2000\n  Average SOC: 0.8860\n  Solar usage: 508 time steps\n  Grid usage: 163 time steps\n  Diesel usage: 340 time steps\n\nSite site10:\n  Minimum SOC: 0.2000\n  Average SOC: 0.8918\n  Solar usage: 584 time steps\n  Grid usage: 149 time steps\n  Diesel usage: 273 time steps\n\n",
          "output_type": "stream"
        }
      ]
    }
  ]
}